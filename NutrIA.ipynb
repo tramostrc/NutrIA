{
  "nbformat": 4,
  "nbformat_minor": 0,
  "metadata": {
    "colab": {
      "provenance": [],
      "authorship_tag": "ABX9TyPt1EsM48CFesbIo9qVJqcO",
      "include_colab_link": true
    },
    "kernelspec": {
      "name": "python3",
      "display_name": "Python 3"
    },
    "language_info": {
      "name": "python"
    },
    "widgets": {
      "application/vnd.jupyter.widget-state+json": {
        "397ce2e5c6f14d4ca4dc5415f5fdeb7a": {
          "model_module": "@jupyter-widgets/controls",
          "model_name": "VBoxModel",
          "model_module_version": "1.5.0",
          "state": {
            "_dom_classes": [],
            "_model_module": "@jupyter-widgets/controls",
            "_model_module_version": "1.5.0",
            "_model_name": "VBoxModel",
            "_view_count": null,
            "_view_module": "@jupyter-widgets/controls",
            "_view_module_version": "1.5.0",
            "_view_name": "VBoxView",
            "box_style": "",
            "children": [
              "IPY_MODEL_d9bbcdab786e4167a2985ed101e9e173",
              "IPY_MODEL_ec3a8c054fba4c59b2792999665709ec",
              "IPY_MODEL_3cd59dd2df764cf99e843fe614bd64f5",
              "IPY_MODEL_7019af7e2d084f81b3bcbd8d5bd95cd1",
              "IPY_MODEL_d3453c9369fe4fae8797bea7cedb1866",
              "IPY_MODEL_0ea82d84f8da43afbc5853463f5750c1"
            ],
            "layout": "IPY_MODEL_446316464d1e48dd9f6c500f577c2564"
          }
        },
        "d9bbcdab786e4167a2985ed101e9e173": {
          "model_module": "@jupyter-widgets/controls",
          "model_name": "RadioButtonsModel",
          "model_module_version": "1.5.0",
          "state": {
            "_dom_classes": [],
            "_model_module": "@jupyter-widgets/controls",
            "_model_module_version": "1.5.0",
            "_model_name": "RadioButtonsModel",
            "_options_labels": [
              "Emagrecer",
              "Ganhar massa muscular",
              "Manter o peso",
              "Melhorar a saúde"
            ],
            "_view_count": null,
            "_view_module": "@jupyter-widgets/controls",
            "_view_module_version": "1.5.0",
            "_view_name": "RadioButtonsView",
            "description": "Objetivo:",
            "description_tooltip": null,
            "disabled": false,
            "index": 0,
            "layout": "IPY_MODEL_a4f79306efa1402dbf337ede71f6e34b",
            "style": "IPY_MODEL_e13ffa20d1a94351aff89218813c0124"
          }
        },
        "ec3a8c054fba4c59b2792999665709ec": {
          "model_module": "@jupyter-widgets/controls",
          "model_name": "RadioButtonsModel",
          "model_module_version": "1.5.0",
          "state": {
            "_dom_classes": [],
            "_model_module": "@jupyter-widgets/controls",
            "_model_module_version": "1.5.0",
            "_model_name": "RadioButtonsModel",
            "_options_labels": [
              "Sedentário",
              "Levemente ativo",
              "Moderadamente ativo",
              "Altamente ativo"
            ],
            "_view_count": null,
            "_view_module": "@jupyter-widgets/controls",
            "_view_module_version": "1.5.0",
            "_view_name": "RadioButtonsView",
            "description": "Rotina:",
            "description_tooltip": null,
            "disabled": false,
            "index": 0,
            "layout": "IPY_MODEL_a4f79306efa1402dbf337ede71f6e34b",
            "style": "IPY_MODEL_e073c1a6cce2421586244fa139b426b0"
          }
        },
        "3cd59dd2df764cf99e843fe614bd64f5": {
          "model_module": "@jupyter-widgets/controls",
          "model_name": "TextModel",
          "model_module_version": "1.5.0",
          "state": {
            "_dom_classes": [],
            "_model_module": "@jupyter-widgets/controls",
            "_model_module_version": "1.5.0",
            "_model_name": "TextModel",
            "_view_count": null,
            "_view_module": "@jupyter-widgets/controls",
            "_view_module_version": "1.5.0",
            "_view_name": "TextView",
            "continuous_update": true,
            "description": "Idade:",
            "description_tooltip": null,
            "disabled": false,
            "layout": "IPY_MODEL_a4f79306efa1402dbf337ede71f6e34b",
            "placeholder": "​",
            "style": "IPY_MODEL_e5f0d311cbf242799ce6f596d4d3ce4b",
            "value": ""
          }
        },
        "7019af7e2d084f81b3bcbd8d5bd95cd1": {
          "model_module": "@jupyter-widgets/controls",
          "model_name": "DropdownModel",
          "model_module_version": "1.5.0",
          "state": {
            "_dom_classes": [],
            "_model_module": "@jupyter-widgets/controls",
            "_model_module_version": "1.5.0",
            "_model_name": "DropdownModel",
            "_options_labels": [
              "Masculino",
              "Feminino"
            ],
            "_view_count": null,
            "_view_module": "@jupyter-widgets/controls",
            "_view_module_version": "1.5.0",
            "_view_name": "DropdownView",
            "description": "Sexo:",
            "description_tooltip": null,
            "disabled": false,
            "index": 0,
            "layout": "IPY_MODEL_a4f79306efa1402dbf337ede71f6e34b",
            "style": "IPY_MODEL_e0947d3c46ec4791ab83e234ad5d7f94"
          }
        },
        "d3453c9369fe4fae8797bea7cedb1866": {
          "model_module": "@jupyter-widgets/controls",
          "model_name": "TextModel",
          "model_module_version": "1.5.0",
          "state": {
            "_dom_classes": [],
            "_model_module": "@jupyter-widgets/controls",
            "_model_module_version": "1.5.0",
            "_model_name": "TextModel",
            "_view_count": null,
            "_view_module": "@jupyter-widgets/controls",
            "_view_module_version": "1.5.0",
            "_view_name": "TextView",
            "continuous_update": true,
            "description": "Peso:",
            "description_tooltip": null,
            "disabled": false,
            "layout": "IPY_MODEL_a4f79306efa1402dbf337ede71f6e34b",
            "placeholder": "​",
            "style": "IPY_MODEL_d4b8baf0780146e391e74643da05f167",
            "value": ""
          }
        },
        "0ea82d84f8da43afbc5853463f5750c1": {
          "model_module": "@jupyter-widgets/controls",
          "model_name": "TextModel",
          "model_module_version": "1.5.0",
          "state": {
            "_dom_classes": [],
            "_model_module": "@jupyter-widgets/controls",
            "_model_module_version": "1.5.0",
            "_model_name": "TextModel",
            "_view_count": null,
            "_view_module": "@jupyter-widgets/controls",
            "_view_module_version": "1.5.0",
            "_view_name": "TextView",
            "continuous_update": true,
            "description": "Altura:",
            "description_tooltip": null,
            "disabled": false,
            "layout": "IPY_MODEL_a4f79306efa1402dbf337ede71f6e34b",
            "placeholder": "​",
            "style": "IPY_MODEL_026f22d458914c9a9a10123a5afa6282",
            "value": ""
          }
        },
        "446316464d1e48dd9f6c500f577c2564": {
          "model_module": "@jupyter-widgets/base",
          "model_name": "LayoutModel",
          "model_module_version": "1.2.0",
          "state": {
            "_model_module": "@jupyter-widgets/base",
            "_model_module_version": "1.2.0",
            "_model_name": "LayoutModel",
            "_view_count": null,
            "_view_module": "@jupyter-widgets/base",
            "_view_module_version": "1.2.0",
            "_view_name": "LayoutView",
            "align_content": null,
            "align_items": null,
            "align_self": null,
            "border": null,
            "bottom": null,
            "display": null,
            "flex": null,
            "flex_flow": null,
            "grid_area": null,
            "grid_auto_columns": null,
            "grid_auto_flow": null,
            "grid_auto_rows": null,
            "grid_column": null,
            "grid_gap": null,
            "grid_row": null,
            "grid_template_areas": null,
            "grid_template_columns": null,
            "grid_template_rows": null,
            "height": null,
            "justify_content": null,
            "justify_items": null,
            "left": null,
            "margin": null,
            "max_height": null,
            "max_width": null,
            "min_height": null,
            "min_width": null,
            "object_fit": null,
            "object_position": null,
            "order": null,
            "overflow": null,
            "overflow_x": null,
            "overflow_y": null,
            "padding": null,
            "right": null,
            "top": null,
            "visibility": null,
            "width": null
          }
        },
        "a4f79306efa1402dbf337ede71f6e34b": {
          "model_module": "@jupyter-widgets/base",
          "model_name": "LayoutModel",
          "model_module_version": "1.2.0",
          "state": {
            "_model_module": "@jupyter-widgets/base",
            "_model_module_version": "1.2.0",
            "_model_name": "LayoutModel",
            "_view_count": null,
            "_view_module": "@jupyter-widgets/base",
            "_view_module_version": "1.2.0",
            "_view_name": "LayoutView",
            "align_content": null,
            "align_items": null,
            "align_self": null,
            "border": null,
            "bottom": null,
            "display": null,
            "flex": null,
            "flex_flow": null,
            "grid_area": null,
            "grid_auto_columns": null,
            "grid_auto_flow": null,
            "grid_auto_rows": null,
            "grid_column": null,
            "grid_gap": null,
            "grid_row": null,
            "grid_template_areas": null,
            "grid_template_columns": null,
            "grid_template_rows": null,
            "height": null,
            "justify_content": null,
            "justify_items": null,
            "left": null,
            "margin": null,
            "max_height": null,
            "max_width": null,
            "min_height": null,
            "min_width": null,
            "object_fit": null,
            "object_position": null,
            "order": null,
            "overflow": null,
            "overflow_x": null,
            "overflow_y": null,
            "padding": null,
            "right": null,
            "top": null,
            "visibility": null,
            "width": "50%"
          }
        },
        "e13ffa20d1a94351aff89218813c0124": {
          "model_module": "@jupyter-widgets/controls",
          "model_name": "DescriptionStyleModel",
          "model_module_version": "1.5.0",
          "state": {
            "_model_module": "@jupyter-widgets/controls",
            "_model_module_version": "1.5.0",
            "_model_name": "DescriptionStyleModel",
            "_view_count": null,
            "_view_module": "@jupyter-widgets/base",
            "_view_module_version": "1.2.0",
            "_view_name": "StyleView",
            "description_width": ""
          }
        },
        "e073c1a6cce2421586244fa139b426b0": {
          "model_module": "@jupyter-widgets/controls",
          "model_name": "DescriptionStyleModel",
          "model_module_version": "1.5.0",
          "state": {
            "_model_module": "@jupyter-widgets/controls",
            "_model_module_version": "1.5.0",
            "_model_name": "DescriptionStyleModel",
            "_view_count": null,
            "_view_module": "@jupyter-widgets/base",
            "_view_module_version": "1.2.0",
            "_view_name": "StyleView",
            "description_width": ""
          }
        },
        "e5f0d311cbf242799ce6f596d4d3ce4b": {
          "model_module": "@jupyter-widgets/controls",
          "model_name": "DescriptionStyleModel",
          "model_module_version": "1.5.0",
          "state": {
            "_model_module": "@jupyter-widgets/controls",
            "_model_module_version": "1.5.0",
            "_model_name": "DescriptionStyleModel",
            "_view_count": null,
            "_view_module": "@jupyter-widgets/base",
            "_view_module_version": "1.2.0",
            "_view_name": "StyleView",
            "description_width": ""
          }
        },
        "e0947d3c46ec4791ab83e234ad5d7f94": {
          "model_module": "@jupyter-widgets/controls",
          "model_name": "DescriptionStyleModel",
          "model_module_version": "1.5.0",
          "state": {
            "_model_module": "@jupyter-widgets/controls",
            "_model_module_version": "1.5.0",
            "_model_name": "DescriptionStyleModel",
            "_view_count": null,
            "_view_module": "@jupyter-widgets/base",
            "_view_module_version": "1.2.0",
            "_view_name": "StyleView",
            "description_width": ""
          }
        },
        "d4b8baf0780146e391e74643da05f167": {
          "model_module": "@jupyter-widgets/controls",
          "model_name": "DescriptionStyleModel",
          "model_module_version": "1.5.0",
          "state": {
            "_model_module": "@jupyter-widgets/controls",
            "_model_module_version": "1.5.0",
            "_model_name": "DescriptionStyleModel",
            "_view_count": null,
            "_view_module": "@jupyter-widgets/base",
            "_view_module_version": "1.2.0",
            "_view_name": "StyleView",
            "description_width": ""
          }
        },
        "026f22d458914c9a9a10123a5afa6282": {
          "model_module": "@jupyter-widgets/controls",
          "model_name": "DescriptionStyleModel",
          "model_module_version": "1.5.0",
          "state": {
            "_model_module": "@jupyter-widgets/controls",
            "_model_module_version": "1.5.0",
            "_model_name": "DescriptionStyleModel",
            "_view_count": null,
            "_view_module": "@jupyter-widgets/base",
            "_view_module_version": "1.2.0",
            "_view_name": "StyleView",
            "description_width": ""
          }
        },
        "e972831346ef4e50bcef1a374fb51578": {
          "model_module": "@jupyter-widgets/controls",
          "model_name": "ButtonModel",
          "model_module_version": "1.5.0",
          "state": {
            "_dom_classes": [],
            "_model_module": "@jupyter-widgets/controls",
            "_model_module_version": "1.5.0",
            "_model_name": "ButtonModel",
            "_view_count": null,
            "_view_module": "@jupyter-widgets/controls",
            "_view_module_version": "1.5.0",
            "_view_name": "ButtonView",
            "button_style": "success",
            "description": "Criar plano Alimentar",
            "disabled": false,
            "icon": "",
            "layout": "IPY_MODEL_af693e4aa0b64baa8fa0162564f1c0b5",
            "style": "IPY_MODEL_892f19b54eb24e238e3c7c691594c3f6",
            "tooltip": ""
          }
        },
        "af693e4aa0b64baa8fa0162564f1c0b5": {
          "model_module": "@jupyter-widgets/base",
          "model_name": "LayoutModel",
          "model_module_version": "1.2.0",
          "state": {
            "_model_module": "@jupyter-widgets/base",
            "_model_module_version": "1.2.0",
            "_model_name": "LayoutModel",
            "_view_count": null,
            "_view_module": "@jupyter-widgets/base",
            "_view_module_version": "1.2.0",
            "_view_name": "LayoutView",
            "align_content": null,
            "align_items": null,
            "align_self": null,
            "border": null,
            "bottom": null,
            "display": null,
            "flex": null,
            "flex_flow": null,
            "grid_area": null,
            "grid_auto_columns": null,
            "grid_auto_flow": null,
            "grid_auto_rows": null,
            "grid_column": null,
            "grid_gap": null,
            "grid_row": null,
            "grid_template_areas": null,
            "grid_template_columns": null,
            "grid_template_rows": null,
            "height": null,
            "justify_content": null,
            "justify_items": null,
            "left": null,
            "margin": null,
            "max_height": null,
            "max_width": null,
            "min_height": null,
            "min_width": null,
            "object_fit": null,
            "object_position": null,
            "order": null,
            "overflow": null,
            "overflow_x": null,
            "overflow_y": null,
            "padding": null,
            "right": null,
            "top": null,
            "visibility": null,
            "width": null
          }
        },
        "892f19b54eb24e238e3c7c691594c3f6": {
          "model_module": "@jupyter-widgets/controls",
          "model_name": "ButtonStyleModel",
          "model_module_version": "1.5.0",
          "state": {
            "_model_module": "@jupyter-widgets/controls",
            "_model_module_version": "1.5.0",
            "_model_name": "ButtonStyleModel",
            "_view_count": null,
            "_view_module": "@jupyter-widgets/base",
            "_view_module_version": "1.2.0",
            "_view_name": "StyleView",
            "button_color": null,
            "font_weight": ""
          }
        }
      }
    }
  },
  "cells": [
    {
      "cell_type": "markdown",
      "metadata": {
        "id": "view-in-github",
        "colab_type": "text"
      },
      "source": [
        "<a href=\"https://colab.research.google.com/github/tramostrc/NutrIA/blob/main/NutrIA.ipynb\" target=\"_parent\"><img src=\"https://colab.research.google.com/assets/colab-badge.svg\" alt=\"Open In Colab\"/></a>"
      ]
    },
    {
      "cell_type": "code",
      "execution_count": 34,
      "metadata": {
        "colab": {
          "base_uri": "https://localhost:8080/",
          "height": 537,
          "referenced_widgets": [
            "397ce2e5c6f14d4ca4dc5415f5fdeb7a",
            "d9bbcdab786e4167a2985ed101e9e173",
            "ec3a8c054fba4c59b2792999665709ec",
            "3cd59dd2df764cf99e843fe614bd64f5",
            "7019af7e2d084f81b3bcbd8d5bd95cd1",
            "d3453c9369fe4fae8797bea7cedb1866",
            "0ea82d84f8da43afbc5853463f5750c1",
            "446316464d1e48dd9f6c500f577c2564",
            "a4f79306efa1402dbf337ede71f6e34b",
            "e13ffa20d1a94351aff89218813c0124",
            "e073c1a6cce2421586244fa139b426b0",
            "e5f0d311cbf242799ce6f596d4d3ce4b",
            "e0947d3c46ec4791ab83e234ad5d7f94",
            "d4b8baf0780146e391e74643da05f167",
            "026f22d458914c9a9a10123a5afa6282",
            "e972831346ef4e50bcef1a374fb51578",
            "af693e4aa0b64baa8fa0162564f1c0b5",
            "892f19b54eb24e238e3c7c691594c3f6"
          ]
        },
        "id": "xbFMDTsonJ4f",
        "outputId": "1e91114e-2209-4666-dd0d-efe9544b96fa"
      },
      "outputs": [
        {
          "output_type": "display_data",
          "data": {
            "text/plain": [
              "<IPython.core.display.HTML object>"
            ],
            "text/html": [
              "<h1 style='background-image: linear-gradient(90deg, green, white);padding:10px;'>NutrIA</h1>"
            ]
          },
          "metadata": {}
        },
        {
          "output_type": "display_data",
          "data": {
            "text/plain": [
              "<IPython.core.display.HTML object>"
            ],
            "text/html": [
              "<h2>Crie seu plano alimentar com a Gemini</h2>"
            ]
          },
          "metadata": {}
        },
        {
          "output_type": "display_data",
          "data": {
            "text/plain": [
              "<IPython.core.display.HTML object>"
            ],
            "text/html": [
              "Informe corretamente as informações abaixo:"
            ]
          },
          "metadata": {}
        },
        {
          "output_type": "display_data",
          "data": {
            "text/plain": [
              "VBox(children=(RadioButtons(description='Objetivo:', layout=Layout(width='50%'), options=('Emagrecer', 'Ganhar…"
            ],
            "application/vnd.jupyter.widget-view+json": {
              "version_major": 2,
              "version_minor": 0,
              "model_id": "397ce2e5c6f14d4ca4dc5415f5fdeb7a"
            }
          },
          "metadata": {}
        },
        {
          "output_type": "display_data",
          "data": {
            "text/plain": [
              "<IPython.core.display.HTML object>"
            ],
            "text/html": [
              "<p><br>"
            ]
          },
          "metadata": {}
        },
        {
          "output_type": "display_data",
          "data": {
            "text/plain": [
              "Button(button_style='success', description='Criar plano Alimentar', style=ButtonStyle())"
            ],
            "application/vnd.jupyter.widget-view+json": {
              "version_major": 2,
              "version_minor": 0,
              "model_id": "e972831346ef4e50bcef1a374fb51578"
            }
          },
          "metadata": {}
        }
      ],
      "source": [
        "import google.generativeai as genai\n",
        "from ipywidgets import widgets\n",
        "from google.colab import userdata\n",
        "from markdown import markdown\n",
        "from IPython.display import display, HTML\n",
        "\n",
        "perguntas = {\n",
        "  \"Objetivo\": {\n",
        "    \"type\": \"radio\",\n",
        "    \"options\": [\"Emagrecer\", \"Ganhar massa muscular\", \"Manter o peso\", \"Melhorar a saúde\"],\n",
        "  },\n",
        "  \"Rotina\": {\n",
        "    \"type\": \"radio\",\n",
        "    \"options\": [\"Sedentário\", \"Levemente ativo\", \"Moderadamente ativo\", \"Altamente ativo\"],\n",
        "  },\n",
        "  \"Sexo\": {\n",
        "    \"type\": \"radio\",\n",
        "    \"options\": [\"Masculino\", \"Feminino\"],\n",
        "  }\n",
        "}\n",
        "\n",
        "# Define the layout\n",
        "layout = widgets.Layout(width=\"50%\")\n",
        "\n",
        "# Create widgets for each question\n",
        "objetivo = widgets.RadioButtons(\n",
        "    options=perguntas[\"Objetivo\"][\"options\"],\n",
        "    description=\"Objetivo:\",\n",
        "    layout=layout,\n",
        ")\n",
        "\n",
        "rotina = widgets.RadioButtons(\n",
        "    options=perguntas[\"Rotina\"][\"options\"],\n",
        "    description=\"Rotina:\",\n",
        "    layout=layout,\n",
        ")\n",
        "\n",
        "idade = widgets.Text(\n",
        "    value=\"\",\n",
        "    description=\"Idade:\",\n",
        "    layout=layout,\n",
        ")\n",
        "\n",
        "sexo = widgets.Dropdown(\n",
        "    options=perguntas[\"Sexo\"][\"options\"],\n",
        "    description=\"Sexo:\",\n",
        "    layout=layout,\n",
        ")\n",
        "\n",
        "peso = widgets.Text(\n",
        "    value=\"\",\n",
        "    description=\"Peso:\",\n",
        "    layout=layout,\n",
        ")\n",
        "\n",
        "altura = widgets.Text(\n",
        "    value=\"\",\n",
        "    description=\"Altura:\",\n",
        "    layout=layout,\n",
        ")\n",
        "\n",
        "# Create the form\n",
        "form = widgets.VBox(\n",
        "    children=[objetivo, rotina, idade, sexo, peso, altura]\n",
        ")\n",
        "\n",
        "# Titulo\n",
        "display(HTML(\"<h1 style='background-image: linear-gradient(90deg, green, white);padding:10px;'>NutrIA</h1>\"))\n",
        "display(HTML(\"<h2>Crie seu plano alimentar com a Gemini</h2>\"))\n",
        "display(HTML(\"Informe corretamente as informações abaixo:\"))\n",
        "\n",
        "# Display the form\n",
        "display(form)\n",
        "\n",
        "# Create a submit button\n",
        "submit_button = widgets.Button(description=\"Criar plano Alimentar\")\n",
        "submit_button.button_style = \"success\"\n",
        "submit_button.on_click(on_submit)\n",
        "\n",
        "# Display the submit button\n",
        "display(HTML(\"<p><br>\"))\n",
        "display(submit_button)\n",
        "\n",
        "#===========================================================================\n",
        "\n",
        "# Access the values\n",
        "def on_submit(button):\n",
        "\n",
        "    GOOGLE_API_KEY = userdata.get('API_KEY')\n",
        "    genai.configure(api_key=GOOGLE_API_KEY)\n",
        "    model = genai.GenerativeModel('gemini-pro')\n",
        "\n",
        "    # Cria o prompt para o Gemini\n",
        "    prompt = f\"\"\"\n",
        "    ## Prompt para Gemini\n",
        "\n",
        "    Objetivo: {objetivo.value}\n",
        "    Rotina: {rotina.value}\n",
        "    Idade: {idade.value}\n",
        "    Sexo: {sexo.value}\n",
        "    Peso: {peso.value}\n",
        "    Altura: {altura.value}\n",
        "\n",
        "    ## Descreva um plano alimentar personalizado para o usuário, considerando as informações acima.\n",
        "    \"\"\"\n",
        "    # Executa o prompt no Gemini\n",
        "    resultado_gemini = model.generate_content(prompt)\n",
        "\n",
        "    # Convert the text to HTML using Markdown\n",
        "    #print(markdown(resultado_gemini.text))\n",
        "    text = resultado_gemini.text\n",
        "    html = markdown(text)\n",
        "    display(html)\n",
        "\n",
        "#===========================================================================\n"
      ]
    }
  ]
}